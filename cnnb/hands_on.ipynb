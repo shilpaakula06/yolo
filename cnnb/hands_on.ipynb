{
 "cells": [
  {
   "cell_type": "markdown",
   "metadata": {},
   "source": [
    "### In this hands-on you will be using pretrained yolo model for object detection.\n",
    "#### Follow thr instructions provided for each cell and code accordingly.\n",
    "#### Press shift + enter to run the in each cell and make sure you do this for all the cells in the notebook."
   ]
  },
  {
   "cell_type": "markdown",
   "metadata": {},
   "source": [
    "### Run the below cell to import all necessary packages required for this hands-on"
   ]
  },
  {
   "cell_type": "code",
   "execution_count": 17,
   "metadata": {},
   "outputs": [],
   "source": [
    "!alias python=python3\n",
    "!alias pip=pip3\n",
    "import argparse\n",
    "import os\n",
    "import matplotlib.pyplot as plt\n",
    "from matplotlib.pyplot import imshow\n",
    "import scipy.io\n",
    "import scipy.misc\n",
    "import numpy as np\n",
    "import pandas as pd\n",
    "import PIL\n",
    "from keras.models import load_model, Model\n",
    "from keras import backend as K\n",
    "import tensorflow as tf\n",
    "\n",
    "from utils import read_classes, read_anchors, generate_colors, preprocess_image, draw_boxes, scale_boxes\n",
    "from yad2k.models.keras_yolo import yolo_head, yolo_boxes_to_corners, preprocess_true_boxes, yolo_loss, yolo_body\n"
   ]
  },
  {
   "cell_type": "markdown",
   "metadata": {},
   "source": [
    "#### compute box_scores by multiplying box_confidence and box_class_probs  \n",
    "#### extracts class indices of maximum score and their corresponding score values and assign it to variable box_classes and box_class_scores  \n",
    "#### filter out the box_scores above a threshold, and return the corresponding scores, boxe dimensions and their classes."
   ]
  },
  {
   "cell_type": "code",
   "execution_count": 18,
   "metadata": {},
   "outputs": [],
   "source": [
    "def yolo_filter_boxes(box_confidence, boxes, box_class_probs, threshold = 0.6):\n",
    "    \n",
    "    \n",
    "    box_scores =              \n",
    "    box_classes = \n",
    "    box_class_scores =\n",
    "    \n",
    "    filtering_mask = \n",
    "    \n",
    "    scores = \n",
    "    boxes = \n",
    "    classes = \n",
    "    \n",
    "    return scores, boxes, classes"
   ]
  },
  {
   "cell_type": "markdown",
   "metadata": {},
   "source": [
    "#### Run the below cell to test the function defined above\n",
    "### Expected output:\n",
    "scores[2] = 18.66819   \n",
    "boxes[2] = [ 1.9018091 -3.9903622 -4.009363  -3.981121 ]  \n",
    "classes[2] = 21  \n",
    "scores.shape = (?,)  \n",
    "boxes.shape = (?, 4)  \n",
    "classes.shape = (?,)  \n"
   ]
  },
  {
   "cell_type": "code",
   "execution_count": null,
   "metadata": {},
   "outputs": [],
   "source": [
    "with tf.Session() as test_a:\n",
    "    box_confidence = tf.random_normal([19, 19, 5, 1], mean=1, stddev=4, seed = 51)\n",
    "    boxes = tf.random_normal([19, 19, 5, 4], mean=1, stddev=4, seed = 51)\n",
    "    box_class_probs = tf.random_normal([19, 19, 5, 80], mean=1, stddev=4, seed = 51)\n",
    "    scores, boxes, classes = yolo_filter_boxes(box_confidence, boxes, box_class_probs, threshold = 0.5)\n",
    "    print(\"scores[2] = \" + str(scores[2].eval()))\n",
    "    print(\"boxes[2] = \" + str(boxes[2].eval()))\n",
    "    print(\"classes[2] = \" + str(classes[2].eval()))\n",
    "    print(\"scores.shape = \" + str(scores.shape))\n",
    "    print(\"boxes.shape = \" + str(boxes.shape))\n",
    "    print(\"classes.shape = \" + str(classes.shape))"
   ]
  },
  {
   "cell_type": "markdown",
   "metadata": {},
   "source": [
    "#### Define the function yolo_non_max_supression to implement nonmax suppression to eliminate overlapping boxes.\n",
    "\n"
   ]
  },
  {
   "cell_type": "code",
   "execution_count": 21,
   "metadata": {},
   "outputs": [],
   "source": [
    "def yolo_non_max_suppression(scores, boxes, classes, max_boxes = 10, iou_threshold = 0.5):\n",
    "    \n",
    "    \n",
    "    max_boxes_tensor =    # tensor to be used in tf.image.non_max_suppression()\n",
    "    \n",
    "    K.get_session().run(tf.variables_initializer([max_boxes_tensor]))\n",
    "    \n",
    "    nms_indices =      ###use tf.image.non_max_suppression to extract eliminate ovelapping boxes\n",
    "    ####Use tf.gather() to pick boxes and their respective predicted classes as well as their scores\n",
    "    scores =           \n",
    "    boxes = \n",
    "    classes = \n",
    "    \n",
    "    \n",
    "    return scores, boxes, classes"
   ]
  },
  {
   "cell_type": "markdown",
   "metadata": {},
   "source": [
    "#### Run the below cell to validate the function defined above  \n",
    "#### Expected output\n",
    "scores[2] = 7.2168345  \n",
    "boxes[2] = [  1.3835918  -2.2073252   2.5128307 -10.085559 ]  \n",
    "classes[2] = -5.1675873  \n",
    "scores.shape = (10,)  \n",
    "boxes.shape = (10, 4)  \n",
    "classes.shape = (10,)  "
   ]
  },
  {
   "cell_type": "code",
   "execution_count": null,
   "metadata": {},
   "outputs": [],
   "source": [
    "with tf.Session() as test_b:\n",
    "    scores = tf.random_normal([54,], mean=1, stddev=4, seed = 51)\n",
    "    boxes = tf.random_normal([54, 4], mean=1, stddev=4, seed = 51)\n",
    "    classes = tf.random_normal([54,], mean=1, stddev=4, seed = 51)\n",
    "    scores, boxes, classes = yolo_non_max_suppression(scores, boxes, classes)\n",
    "    init=tf.global_variables_initializer()\n",
    "    test_b.run(init)\n",
    "    print(\"scores[2] = \" + str(scores[2].eval()))\n",
    "    print(\"boxes[2] = \" + str(boxes[2].eval()))\n",
    "    print(\"classes[2] = \" + str(classes[2].eval()))\n",
    "    print(\"scores.shape = \" + str(scores.eval().shape))\n",
    "    print(\"boxes.shape = \" + str(boxes.eval().shape))\n",
    "    print(\"classes.shape = \" + str(classes.eval().shape))\n",
    "\n",
    "    "
   ]
  },
  {
   "cell_type": "markdown",
   "metadata": {},
   "source": [
    "#### Define the function yolo_eval that consolidates all the function defined above to extract single prediction boxes for each object"
   ]
  },
  {
   "cell_type": "code",
   "execution_count": 23,
   "metadata": {},
   "outputs": [],
   "source": [
    "def yolo_eval(yolo_outputs, image_shape = (720., 1280.), max_boxes=5, score_threshold=.6, iou_threshold=.5):\n",
    "    \n",
    "    box_xy, box_wh,  box_confidence, box_class_probs = yolo_outputs   \n",
    "    boxes = yolo_boxes_to_corners(box_xy, box_wh)\n",
    "\n",
    "    scores, boxes, classes =    ###call yolo_filter_boxes to extract box confidence scores\n",
    "    \n",
    "    ### the scale_box function adjest the box dimensions according to the image.\n",
    "    boxes = scale_boxes(boxes, image_shape)  \n",
    "\n",
    "    scores, boxes, classes =  ### call yolo_non_max_suppression to eliminate overlapping boxes\n",
    "    return scores, boxes, classes"
   ]
  },
  {
   "cell_type": "markdown",
   "metadata": {},
   "source": [
    "#### Run the below cell to vlidate yolo_eval function defined above\n",
    "#### Expected output\n",
    "scores[2] = 155.1541  \n",
    "boxes[2] = [   109.86103  -5404.5874     329.5831  -16213.762  ]  \n",
    "classes[2] = 16  \n",
    "scores.shape = (5,)  \n",
    "boxes.shape = (5, 4)  \n",
    "classes.shape = (5,)  \n",
    "\n"
   ]
  },
  {
   "cell_type": "code",
   "execution_count": null,
   "metadata": {},
   "outputs": [],
   "source": [
    "with tf.Session() as test_b:\n",
    "    yolo_outputs = (tf.random_normal([19, 19, 5, 2], mean=1, stddev=4, seed = 51),\n",
    "                    tf.random_normal([19, 19, 5, 2], mean=1, stddev=4, seed = 51),\n",
    "                    tf.random_normal([19, 19, 5, 1], mean=1, stddev=4, seed = 51),\n",
    "                    tf.random_normal([19, 19, 5, 80], mean=1, stddev=4, seed = 51))\n",
    "    scores, boxes, classes = yolo_eval(yolo_outputs)\n",
    "    init=tf.global_variables_initializer()\n",
    "    test_b.run(init)\n",
    "    print(\"scores[2] = \" + str(scores[2].eval()))\n",
    "    print(\"boxes[2] = \" + str(boxes[2].eval()))\n",
    "    print(\"classes[2] = \" + str(classes[2].eval()))\n",
    "    print(\"scores.shape = \" + str(scores.eval().shape))\n",
    "    print(\"boxes.shape = \" + str(boxes.eval().shape))\n",
    "    print(\"classes.shape = \" + str(classes.eval().shape))\n"
   ]
  },
  {
   "cell_type": "markdown",
   "metadata": {},
   "source": [
    "#### Run the below cell to load the model "
   ]
  },
  {
   "cell_type": "code",
   "execution_count": 54,
   "metadata": {},
   "outputs": [],
   "source": [
    "sess = K.get_session()\n",
    "class_names = read_classes(\"model_data/pascal_classes.txt\")\n",
    "anchors = read_anchors(\"model_data/yolo_tiny_anchors.txt\")\n",
    "image_shape = (375., 500.)\n",
    "yolo_model = load_model(\"model_data/yolo_tiny.h5\")\n",
    "yolo_model.summary()"
   ]
  },
  {
   "cell_type": "markdown",
   "metadata": {},
   "source": [
    "### Extract predictions"
   ]
  },
  {
   "cell_type": "code",
   "execution_count": 56,
   "metadata": {},
   "outputs": [],
   "source": [
    "\n",
    "yolo_outputs = yolo_head(yolo_model.output, anchors, len(class_names)) #### yolo_head() return box scores, dimensions and claases for each grid cell\n",
    "scores, boxes, classes = yolo_eval(yolo_outputs, image_shape) ### Filter boxes"
   ]
  },
  {
   "cell_type": "markdown",
   "metadata": {},
   "source": [
    "#### The method to compute the prediction on an image file has been define for you"
   ]
  },
  {
   "cell_type": "code",
   "execution_count": 58,
   "metadata": {},
   "outputs": [],
   "source": [
    "def predict(sess, image_file):\n",
    "   \n",
    "\n",
    "    image, image_data = preprocess_image(image_file, model_image_size = (416, 416))\n",
    "\n",
    "\n",
    "    out_scores, out_boxes, out_classes = sess.run([scores, boxes, classes], feed_dict={yolo_model.input: image_data, K.learning_phase(): 0})\n",
    "    \n",
    "\n",
    "    \n",
    "    print('Found {} boxes for {}'.format(len(out_boxes), image_file))\n",
    "\n",
    "    colors = generate_colors(class_names)\n",
    "    \n",
    "    draw_boxes(image, out_scores, out_boxes, out_classes, class_names, colors)\n",
    "    \n",
    "    image.save(os.path.join(\"out\", image_file), quality=90)\n",
    "    \n",
    "    output_image = scipy.misc.imread(os.path.join(\"out\", image_file))\n",
    "    imshow(output_image)\n",
    "    \n",
    "    return out_scores, out_boxes, out_classes"
   ]
  },
  {
   "cell_type": "markdown",
   "metadata": {},
   "source": [
    "### Run the below cell to detect objects on an image file"
   ]
  },
  {
   "cell_type": "code",
   "execution_count": null,
   "metadata": {},
   "outputs": [],
   "source": [
    "predict(sess, \"men.JPEG\")"
   ]
  }
 ],
 "metadata": {
  "kernelspec": {
   "display_name": "Python 3",
   "language": "python",
   "name": "python3"
  },
  "language_info": {
   "codemirror_mode": {
    "name": "ipython",
    "version": 3
   },
   "file_extension": ".py",
   "mimetype": "text/x-python",
   "name": "python",
   "nbconvert_exporter": "python",
   "pygments_lexer": "ipython3",
   "version": "3.6.5"
  }
 },
 "nbformat": 4,
 "nbformat_minor": 2
}
